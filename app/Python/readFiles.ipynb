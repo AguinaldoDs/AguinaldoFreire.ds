{
 "cells": [
  {
   "cell_type": "markdown",
   "metadata": {},
   "source": [
    "Import and sendo db informations about file received\n",
    "\n"
   ]
  },
  {
   "cell_type": "code",
   "execution_count": 8,
   "metadata": {},
   "outputs": [
    {
     "name": "stdout",
     "output_type": "stream",
     "text": [
      "A parte da stored procedure 'proc_test' após 'AS' foi atualizada com sucesso.\n"
     ]
    }
   ],
   "source": [
    "import pyodbc\n",
    "\n",
    "# Configurações de conexão ao banco de dados com autenticação do Windows\n",
    "server = 'JNR'\n",
    "database = 'master'\n",
    "connection_string = f'DRIVER={{SQL Server}};SERVER={server};DATABASE={database};Trusted_Connection=yes;'\n",
    "\n",
    "# Palavras-chave a serem substituídas e suas substituições\n",
    "replacements = {\n",
    "    'batata': 'daleste'\n",
    "}\n",
    "\n",
    "# Conectar ao banco de dados\n",
    "connection = pyodbc.connect(connection_string)\n",
    "cursor = connection.cursor()\n",
    "\n",
    "# Nome da stored procedure a ser alterada\n",
    "procedure_name = 'proc_test'\n",
    "\n",
    "try:\n",
    "    # Obter a definição atual da stored procedure\n",
    "    cursor.execute(f\"SELECT OBJECT_DEFINITION(OBJECT_ID('{procedure_name}')) AS ROUTINE_DEFINITION\")\n",
    "    procedure_definition = cursor.fetchone().ROUTINE_DEFINITION\n",
    "\n",
    "    if procedure_definition is not None:\n",
    "        # Localizar o índice da cláusula 'AS' na definição da stored procedure\n",
    "        index_as = procedure_definition.upper().find('AS')\n",
    "\n",
    "        if index_as != -1:\n",
    "            # Obter a parte da definição após a cláusula 'AS'\n",
    "            new_definition = procedure_definition[index_as + 2:].strip()\n",
    "\n",
    "            # Substituir as palavras-chave na parte da definição após 'AS'\n",
    "            for old_word, new_word in replacements.items():\n",
    "                new_definition = new_definition.replace(old_word, new_word)\n",
    "            \n",
    "            # Preparar o comando para alterar a stored procedure\n",
    "            alter_procedure_command = f\"\"\"\n",
    "            ALTER PROCEDURE [dbo].[{procedure_name}]\n",
    "            AS\n",
    "            {new_definition}\n",
    "            \"\"\"\n",
    "\n",
    "            # Atualizar a stored procedure no banco de dados\n",
    "            cursor.execute(alter_procedure_command)\n",
    "            print(f\"A parte da stored procedure '{procedure_name}' após 'AS' foi atualizada com sucesso.\")\n",
    "\n",
    "            # Confirmar as alterações\n",
    "            connection.commit()\n",
    "\n",
    "        else:\n",
    "            print(f\"Não foi possível encontrar a cláusula 'AS' na definição da stored procedure '{procedure_name}'.\")\n",
    "\n",
    "    else:\n",
    "        print(f\"Stored procedure '{procedure_name}' não encontrada.\")\n",
    "\n",
    "except Exception as e:\n",
    "    print(f\"Erro ao tentar alterar a stored procedure '{procedure_name}': {e}\")\n",
    "\n",
    "finally:\n",
    "    # Fechar a conexão\n",
    "    cursor.close()\n",
    "    connection.close()\n"
   ]
  },
  {
   "cell_type": "code",
   "execution_count": null,
   "metadata": {},
   "outputs": [],
   "source": []
  }
 ],
 "metadata": {
  "kernelspec": {
   "display_name": "Python 3",
   "language": "python",
   "name": "python3"
  },
  "language_info": {
   "codemirror_mode": {
    "name": "ipython",
    "version": 3
   },
   "file_extension": ".py",
   "mimetype": "text/x-python",
   "name": "python",
   "nbconvert_exporter": "python",
   "pygments_lexer": "ipython3",
   "version": "3.12.2"
  }
 },
 "nbformat": 4,
 "nbformat_minor": 2
}
