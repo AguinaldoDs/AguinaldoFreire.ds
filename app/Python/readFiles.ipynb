{
 "cells": [
  {
   "cell_type": "code",
   "execution_count": 2,
   "metadata": {},
   "outputs": [
    {
     "name": "stdout",
     "output_type": "stream",
     "text": [
      " * Serving Flask app '__main__'\n",
      " * Debug mode: off\n"
     ]
    },
    {
     "name": "stderr",
     "output_type": "stream",
     "text": [
      "WARNING: This is a development server. Do not use it in a production deployment. Use a production WSGI server instead.\n",
      " * Running on http://127.0.0.1:5000\n",
      "Press CTRL+C to quit\n"
     ]
    }
   ],
   "source": [
    "from flask import Flask, jsonify\n",
    "import pandas as pd\n",
    "\n",
    "app = Flask(__name__)\n",
    "\n",
    "# Carregar o arquivo CSV como um DataFrame\n",
    "file_path = r\"C:\\Users\\aguin\\Downloads\\testando_txt_.txt\"\n",
    "df = pd.read_fwf(file_path, encoding=\"utf-16\")\n",
    "\n",
    "# Rota para retornar os dados do DataFrame como JSON\n",
    "@app.route('/', methods=['GET'])\n",
    "def get_data():\n",
    "    # Converter o DataFrame para JSON\n",
    "    data_json = df.to_json(orient='records', lines=True, force_ascii=False)\n",
    "    return jsonify(data_json)\n",
    "\n",
    "if __name__ == '__main__':\n",
    "    app.run(port=5000)\n"
   ]
  }
 ],
 "metadata": {
  "kernelspec": {
   "display_name": "Python 3",
   "language": "python",
   "name": "python3"
  },
  "language_info": {
   "codemirror_mode": {
    "name": "ipython",
    "version": 3
   },
   "file_extension": ".py",
   "mimetype": "text/x-python",
   "name": "python",
   "nbconvert_exporter": "python",
   "pygments_lexer": "ipython3",
   "version": "3.12.2"
  }
 },
 "nbformat": 4,
 "nbformat_minor": 2
}
